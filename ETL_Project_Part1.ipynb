{
 "cells": [
  {
   "cell_type": "markdown",
   "metadata": {},
   "source": [
    "# ETL Project - The Movie DB"
   ]
  },
  {
   "cell_type": "code",
   "execution_count": 1,
   "metadata": {},
   "outputs": [],
   "source": [
    "# Import Dependencies\n",
    "import pandas as pd\n",
    "from sqlalchemy import create_engine\n",
    "import os\n"
   ]
  },
  {
   "cell_type": "markdown",
   "metadata": {},
   "source": [
    "### Extraction of Data"
   ]
  },
  {
   "cell_type": "code",
   "execution_count": 2,
   "metadata": {},
   "outputs": [
    {
     "name": "stderr",
     "output_type": "stream",
     "text": [
      "C:\\Users\\miva\\Anaconda3\\lib\\site-packages\\IPython\\core\\interactiveshell.py:3020: DtypeWarning: Columns (10) have mixed types. Specify dtype option on import or set low_memory=False.\n",
      "  interactivity=interactivity, compiler=compiler, result=result)\n"
     ]
    },
    {
     "data": {
      "text/html": [
       "<div>\n",
       "<style scoped>\n",
       "    .dataframe tbody tr th:only-of-type {\n",
       "        vertical-align: middle;\n",
       "    }\n",
       "\n",
       "    .dataframe tbody tr th {\n",
       "        vertical-align: top;\n",
       "    }\n",
       "\n",
       "    .dataframe thead th {\n",
       "        text-align: right;\n",
       "    }\n",
       "</style>\n",
       "<table border=\"1\" class=\"dataframe\">\n",
       "  <thead>\n",
       "    <tr style=\"text-align: right;\">\n",
       "      <th></th>\n",
       "      <th>adult</th>\n",
       "      <th>belongs_to_collection</th>\n",
       "      <th>budget</th>\n",
       "      <th>genres</th>\n",
       "      <th>homepage</th>\n",
       "      <th>id</th>\n",
       "      <th>imdb_id</th>\n",
       "      <th>original_language</th>\n",
       "      <th>original_title</th>\n",
       "      <th>overview</th>\n",
       "      <th>...</th>\n",
       "      <th>release_date</th>\n",
       "      <th>revenue</th>\n",
       "      <th>runtime</th>\n",
       "      <th>spoken_languages</th>\n",
       "      <th>status</th>\n",
       "      <th>tagline</th>\n",
       "      <th>title</th>\n",
       "      <th>video</th>\n",
       "      <th>vote_average</th>\n",
       "      <th>vote_count</th>\n",
       "    </tr>\n",
       "  </thead>\n",
       "  <tbody>\n",
       "    <tr>\n",
       "      <th>0</th>\n",
       "      <td>False</td>\n",
       "      <td>{'id': 10194, 'name': 'Toy Story Collection', ...</td>\n",
       "      <td>30000000</td>\n",
       "      <td>[{'id': 16, 'name': 'Animation'}, {'id': 35, '...</td>\n",
       "      <td>http://toystory.disney.com/toy-story</td>\n",
       "      <td>862</td>\n",
       "      <td>tt0114709</td>\n",
       "      <td>en</td>\n",
       "      <td>Toy Story</td>\n",
       "      <td>Led by Woody, Andy's toys live happily in his ...</td>\n",
       "      <td>...</td>\n",
       "      <td>1995-10-30</td>\n",
       "      <td>373554033.0</td>\n",
       "      <td>81.0</td>\n",
       "      <td>[{'iso_639_1': 'en', 'name': 'English'}]</td>\n",
       "      <td>Released</td>\n",
       "      <td>NaN</td>\n",
       "      <td>Toy Story</td>\n",
       "      <td>False</td>\n",
       "      <td>7.7</td>\n",
       "      <td>5415.0</td>\n",
       "    </tr>\n",
       "  </tbody>\n",
       "</table>\n",
       "<p>1 rows × 24 columns</p>\n",
       "</div>"
      ],
      "text/plain": [
       "   adult                              belongs_to_collection    budget  \\\n",
       "0  False  {'id': 10194, 'name': 'Toy Story Collection', ...  30000000   \n",
       "\n",
       "                                              genres  \\\n",
       "0  [{'id': 16, 'name': 'Animation'}, {'id': 35, '...   \n",
       "\n",
       "                               homepage   id    imdb_id original_language  \\\n",
       "0  http://toystory.disney.com/toy-story  862  tt0114709                en   \n",
       "\n",
       "  original_title                                           overview  \\\n",
       "0      Toy Story  Led by Woody, Andy's toys live happily in his ...   \n",
       "\n",
       "     ...     release_date      revenue runtime  \\\n",
       "0    ...       1995-10-30  373554033.0    81.0   \n",
       "\n",
       "                           spoken_languages    status  tagline      title  \\\n",
       "0  [{'iso_639_1': 'en', 'name': 'English'}]  Released      NaN  Toy Story   \n",
       "\n",
       "   video vote_average vote_count  \n",
       "0  False          7.7     5415.0  \n",
       "\n",
       "[1 rows x 24 columns]"
      ]
     },
     "execution_count": 2,
     "metadata": {},
     "output_type": "execute_result"
    }
   ],
   "source": [
    "# Store CSV into DataFrame (Movie)\n",
    "movie_csv_file = os.path.join('Resources','movies_metadata.csv')\n",
    "movie_df = pd.read_csv(movie_csv_file)\n",
    "movie_df.head(1)\n"
   ]
  },
  {
   "cell_type": "code",
   "execution_count": 3,
   "metadata": {},
   "outputs": [
    {
     "data": {
      "text/html": [
       "<div>\n",
       "<style scoped>\n",
       "    .dataframe tbody tr th:only-of-type {\n",
       "        vertical-align: middle;\n",
       "    }\n",
       "\n",
       "    .dataframe tbody tr th {\n",
       "        vertical-align: top;\n",
       "    }\n",
       "\n",
       "    .dataframe thead th {\n",
       "        text-align: right;\n",
       "    }\n",
       "</style>\n",
       "<table border=\"1\" class=\"dataframe\">\n",
       "  <thead>\n",
       "    <tr style=\"text-align: right;\">\n",
       "      <th></th>\n",
       "      <th>userId</th>\n",
       "      <th>movieId</th>\n",
       "      <th>rating</th>\n",
       "      <th>timestamp</th>\n",
       "    </tr>\n",
       "  </thead>\n",
       "  <tbody>\n",
       "    <tr>\n",
       "      <th>0</th>\n",
       "      <td>1</td>\n",
       "      <td>110</td>\n",
       "      <td>1.0</td>\n",
       "      <td>1425941529</td>\n",
       "    </tr>\n",
       "  </tbody>\n",
       "</table>\n",
       "</div>"
      ],
      "text/plain": [
       "   userId  movieId  rating   timestamp\n",
       "0       1      110     1.0  1425941529"
      ]
     },
     "execution_count": 3,
     "metadata": {},
     "output_type": "execute_result"
    }
   ],
   "source": [
    "# Store CSV into DataFrame (Ratings)\n",
    "ratings_csv_file = os.path.join('Resources','ratings.csv')\n",
    "ratings_df = pd.read_csv(ratings_csv_file)\n",
    "ratings_df.head(1)\n"
   ]
  },
  {
   "cell_type": "code",
   "execution_count": 4,
   "metadata": {},
   "outputs": [
    {
     "data": {
      "text/html": [
       "<div>\n",
       "<style scoped>\n",
       "    .dataframe tbody tr th:only-of-type {\n",
       "        vertical-align: middle;\n",
       "    }\n",
       "\n",
       "    .dataframe tbody tr th {\n",
       "        vertical-align: top;\n",
       "    }\n",
       "\n",
       "    .dataframe thead th {\n",
       "        text-align: right;\n",
       "    }\n",
       "</style>\n",
       "<table border=\"1\" class=\"dataframe\">\n",
       "  <thead>\n",
       "    <tr style=\"text-align: right;\">\n",
       "      <th></th>\n",
       "      <th>cast</th>\n",
       "      <th>crew</th>\n",
       "      <th>id</th>\n",
       "    </tr>\n",
       "  </thead>\n",
       "  <tbody>\n",
       "    <tr>\n",
       "      <th>0</th>\n",
       "      <td>[{'cast_id': 14, 'character': 'Woody (voice)',...</td>\n",
       "      <td>[{'credit_id': '52fe4284c3a36847f8024f49', 'de...</td>\n",
       "      <td>862</td>\n",
       "    </tr>\n",
       "  </tbody>\n",
       "</table>\n",
       "</div>"
      ],
      "text/plain": [
       "                                                cast  \\\n",
       "0  [{'cast_id': 14, 'character': 'Woody (voice)',...   \n",
       "\n",
       "                                                crew   id  \n",
       "0  [{'credit_id': '52fe4284c3a36847f8024f49', 'de...  862  "
      ]
     },
     "execution_count": 4,
     "metadata": {},
     "output_type": "execute_result"
    }
   ],
   "source": [
    "# Store CSV into DataFrame (Credits)\n",
    "cast_crew_csv_file = os.path.join('Resources','credits.csv')\n",
    "cast_crew_df = pd.read_csv(cast_crew_csv_file)\n",
    "cast_crew_df.head(1)\n"
   ]
  },
  {
   "cell_type": "code",
   "execution_count": 5,
   "metadata": {},
   "outputs": [
    {
     "data": {
      "text/html": [
       "<div>\n",
       "<style scoped>\n",
       "    .dataframe tbody tr th:only-of-type {\n",
       "        vertical-align: middle;\n",
       "    }\n",
       "\n",
       "    .dataframe tbody tr th {\n",
       "        vertical-align: top;\n",
       "    }\n",
       "\n",
       "    .dataframe thead th {\n",
       "        text-align: right;\n",
       "    }\n",
       "</style>\n",
       "<table border=\"1\" class=\"dataframe\">\n",
       "  <thead>\n",
       "    <tr style=\"text-align: right;\">\n",
       "      <th></th>\n",
       "      <th>movieId</th>\n",
       "      <th>imdbId</th>\n",
       "      <th>tmdbId</th>\n",
       "    </tr>\n",
       "  </thead>\n",
       "  <tbody>\n",
       "    <tr>\n",
       "      <th>0</th>\n",
       "      <td>1</td>\n",
       "      <td>114709</td>\n",
       "      <td>862.0</td>\n",
       "    </tr>\n",
       "  </tbody>\n",
       "</table>\n",
       "</div>"
      ],
      "text/plain": [
       "   movieId  imdbId  tmdbId\n",
       "0        1  114709   862.0"
      ]
     },
     "execution_count": 5,
     "metadata": {},
     "output_type": "execute_result"
    }
   ],
   "source": [
    "# Store CSV into DataFrame (Links)\n",
    "links_csv_file = os.path.join('Resources','links.csv')\n",
    "links_df = pd.read_csv(links_csv_file)\n",
    "links_df.head(1)\n"
   ]
  },
  {
   "cell_type": "code",
   "execution_count": null,
   "metadata": {},
   "outputs": [],
   "source": []
  },
  {
   "cell_type": "markdown",
   "metadata": {},
   "source": [
    "### Transformation of Data"
   ]
  },
  {
   "cell_type": "code",
   "execution_count": 6,
   "metadata": {},
   "outputs": [
    {
     "data": {
      "text/plain": [
       "' MOVIES TABLE '"
      ]
     },
     "execution_count": 6,
     "metadata": {},
     "output_type": "execute_result"
    }
   ],
   "source": [
    "''' MOVIES TABLE '''"
   ]
  },
  {
   "cell_type": "code",
   "execution_count": 7,
   "metadata": {},
   "outputs": [
    {
     "data": {
      "text/html": [
       "<div>\n",
       "<style scoped>\n",
       "    .dataframe tbody tr th:only-of-type {\n",
       "        vertical-align: middle;\n",
       "    }\n",
       "\n",
       "    .dataframe tbody tr th {\n",
       "        vertical-align: top;\n",
       "    }\n",
       "\n",
       "    .dataframe thead th {\n",
       "        text-align: right;\n",
       "    }\n",
       "</style>\n",
       "<table border=\"1\" class=\"dataframe\">\n",
       "  <thead>\n",
       "    <tr style=\"text-align: right;\">\n",
       "      <th></th>\n",
       "      <th>id</th>\n",
       "      <th>imdb_id</th>\n",
       "      <th>original_title</th>\n",
       "      <th>release_date</th>\n",
       "      <th>runtime</th>\n",
       "      <th>status</th>\n",
       "      <th>popularity</th>\n",
       "      <th>original_language</th>\n",
       "      <th>adult</th>\n",
       "      <th>overview</th>\n",
       "      <th>homepage</th>\n",
       "      <th>budget</th>\n",
       "      <th>revenue</th>\n",
       "      <th>genres</th>\n",
       "    </tr>\n",
       "  </thead>\n",
       "  <tbody>\n",
       "    <tr>\n",
       "      <th>0</th>\n",
       "      <td>862</td>\n",
       "      <td>tt0114709</td>\n",
       "      <td>Toy Story</td>\n",
       "      <td>1995-10-30</td>\n",
       "      <td>81.0</td>\n",
       "      <td>Released</td>\n",
       "      <td>21.9469</td>\n",
       "      <td>en</td>\n",
       "      <td>False</td>\n",
       "      <td>Led by Woody, Andy's toys live happily in his ...</td>\n",
       "      <td>http://toystory.disney.com/toy-story</td>\n",
       "      <td>30000000</td>\n",
       "      <td>373554033.0</td>\n",
       "      <td>[{'id': 16, 'name': 'Animation'}, {'id': 35, '...</td>\n",
       "    </tr>\n",
       "  </tbody>\n",
       "</table>\n",
       "</div>"
      ],
      "text/plain": [
       "    id    imdb_id original_title release_date  runtime    status popularity  \\\n",
       "0  862  tt0114709      Toy Story   1995-10-30     81.0  Released    21.9469   \n",
       "\n",
       "  original_language  adult                                           overview  \\\n",
       "0                en  False  Led by Woody, Andy's toys live happily in his ...   \n",
       "\n",
       "                               homepage    budget      revenue  \\\n",
       "0  http://toystory.disney.com/toy-story  30000000  373554033.0   \n",
       "\n",
       "                                              genres  \n",
       "0  [{'id': 16, 'name': 'Animation'}, {'id': 35, '...  "
      ]
     },
     "execution_count": 7,
     "metadata": {},
     "output_type": "execute_result"
    }
   ],
   "source": [
    "# Removing the columns that are not required from 'new_movie_df'\n",
    "new_movie_df = movie_df[['id', 'imdb_id','original_title','release_date','runtime','status','popularity','original_language','adult','overview','homepage','budget','revenue','genres']].copy()\n",
    "new_movie_df.head(1)\n"
   ]
  },
  {
   "cell_type": "code",
   "execution_count": 8,
   "metadata": {},
   "outputs": [
    {
     "data": {
      "text/html": [
       "<div>\n",
       "<style scoped>\n",
       "    .dataframe tbody tr th:only-of-type {\n",
       "        vertical-align: middle;\n",
       "    }\n",
       "\n",
       "    .dataframe tbody tr th {\n",
       "        vertical-align: top;\n",
       "    }\n",
       "\n",
       "    .dataframe thead th {\n",
       "        text-align: right;\n",
       "    }\n",
       "</style>\n",
       "<table border=\"1\" class=\"dataframe\">\n",
       "  <thead>\n",
       "    <tr style=\"text-align: right;\">\n",
       "      <th></th>\n",
       "      <th>id</th>\n",
       "      <th>imdb_id</th>\n",
       "      <th>original_title</th>\n",
       "      <th>release_date</th>\n",
       "      <th>length</th>\n",
       "      <th>status</th>\n",
       "      <th>popularity</th>\n",
       "      <th>original_language</th>\n",
       "      <th>adult</th>\n",
       "      <th>overview</th>\n",
       "      <th>homepage</th>\n",
       "      <th>budget</th>\n",
       "      <th>revenue</th>\n",
       "      <th>genres</th>\n",
       "    </tr>\n",
       "  </thead>\n",
       "  <tbody>\n",
       "    <tr>\n",
       "      <th>0</th>\n",
       "      <td>862</td>\n",
       "      <td>tt0114709</td>\n",
       "      <td>Toy Story</td>\n",
       "      <td>1995-10-30</td>\n",
       "      <td>81.0</td>\n",
       "      <td>Released</td>\n",
       "      <td>21.9469</td>\n",
       "      <td>en</td>\n",
       "      <td>False</td>\n",
       "      <td>Led by Woody, Andy's toys live happily in his ...</td>\n",
       "      <td>http://toystory.disney.com/toy-story</td>\n",
       "      <td>30000000</td>\n",
       "      <td>373554033.0</td>\n",
       "      <td>[{'id': 16, 'name': 'Animation'}, {'id': 35, '...</td>\n",
       "    </tr>\n",
       "  </tbody>\n",
       "</table>\n",
       "</div>"
      ],
      "text/plain": [
       "    id    imdb_id original_title release_date  length    status popularity  \\\n",
       "0  862  tt0114709      Toy Story   1995-10-30    81.0  Released    21.9469   \n",
       "\n",
       "  original_language  adult                                           overview  \\\n",
       "0                en  False  Led by Woody, Andy's toys live happily in his ...   \n",
       "\n",
       "                               homepage    budget      revenue  \\\n",
       "0  http://toystory.disney.com/toy-story  30000000  373554033.0   \n",
       "\n",
       "                                              genres  \n",
       "0  [{'id': 16, 'name': 'Animation'}, {'id': 35, '...  "
      ]
     },
     "execution_count": 8,
     "metadata": {},
     "output_type": "execute_result"
    }
   ],
   "source": [
    "# Rename runtime 'column' to 'length(minutes)'\n",
    "new_movie_df  = new_movie_df.rename(columns={'runtime':'length'})\n",
    "new_movie_df.head(1)\n"
   ]
  },
  {
   "cell_type": "code",
   "execution_count": null,
   "metadata": {},
   "outputs": [],
   "source": [
    "\n",
    "# Creating a new datframe\n",
    "movie_df_new = pd.DataFrame()\n",
    "\n",
    "\n",
    "## Fetching each genre from 'genres' column in 'new_movie_df' dataframe ##\n",
    "\n",
    "new_movie_df['new_genres'] = ''\n",
    "\n",
    "for index, row in new_movie_df.iterrows():\n",
    "    genres_list = []\n",
    "    print(f\"-index {index}-\")\n",
    "    \n",
    "    try:\n",
    "        movie_df_new.loc[index,'id'] = new_movie_df.loc[index,'id']\n",
    "        movie_df_new.loc[index,'imdb_id'] = new_movie_df.loc[index,'imdb_id']\n",
    "        movie_df_new.loc[index,'original_title'] = new_movie_df.loc[index,'original_title']\n",
    "        movie_df_new.loc[index,'release_date'] = new_movie_df.loc[index,'release_date']\n",
    "        movie_df_new.loc[index,'length'] = new_movie_df.loc[index,'length']\n",
    "        movie_df_new.loc[index,'status'] = new_movie_df.loc[index,'status']\n",
    "        movie_df_new.loc[index,'popularity'] = new_movie_df.loc[index,'popularity']\n",
    "        movie_df_new.loc[index,'original_language'] = new_movie_df.loc[index,'original_language']\n",
    "        movie_df_new.loc[index,'adult'] = new_movie_df.loc[index,'adult']\n",
    "        movie_df_new.loc[index,'overview'] = new_movie_df.loc[index,'overview']\n",
    "        movie_df_new.loc[index,'homepage'] = new_movie_df.loc[index,'homepage']\n",
    "        movie_df_new.loc[index,'budget'] = new_movie_df.loc[index,'budget']\n",
    "        movie_df_new.loc[index,'revenue'] = new_movie_df.loc[index,'revenue']\n",
    "        movie_df_new.loc[index,'genres'] = new_movie_df.loc[index,'genres']\n",
    "        \n",
    "        genres = new_movie_df.iloc[index]['genres']\n",
    "        genres = eval(genres)\n",
    "        for i in range(0,len(genres)):\n",
    "            genres_list.append(genres[i]['name'])\n",
    "            genres_listToStr = ', '.join([str(genre) for genre in genres_list]) \n",
    "            new_movie_df.loc[index,'new_genres'] = genres_listToStr\n",
    "            movie_df_new.loc[index,'genres'] = genres_listToStr\n",
    "            \n",
    "    except:\n",
    "        pass\n",
    "    \n",
    "    if (index == 10000):\n",
    "        break\n",
    "\n",
    "\n"
   ]
  },
  {
   "cell_type": "code",
   "execution_count": 10,
   "metadata": {},
   "outputs": [],
   "source": [
    "movie_df_new.head()"
   ]
  },
  {
   "cell_type": "code",
   "execution_count": null,
   "metadata": {},
   "outputs": [],
   "source": [
    "# Removing duplicates records from dataframe\n",
    "movie_df_new = movie_df_new.drop_duplicates(subset =\"id\", keep = False) \n"
   ]
  },
  {
   "cell_type": "code",
   "execution_count": 11,
   "metadata": {},
   "outputs": [],
   "source": [
    "# Saving dataframe into csv file\n",
    "movie_df_new.to_csv('Resources2/movies_small.csv', header=True, index=False)\n"
   ]
  },
  {
   "cell_type": "code",
   "execution_count": 14,
   "metadata": {},
   "outputs": [
    {
     "data": {
      "text/html": [
       "<div>\n",
       "<style scoped>\n",
       "    .dataframe tbody tr th:only-of-type {\n",
       "        vertical-align: middle;\n",
       "    }\n",
       "\n",
       "    .dataframe tbody tr th {\n",
       "        vertical-align: top;\n",
       "    }\n",
       "\n",
       "    .dataframe thead th {\n",
       "        text-align: right;\n",
       "    }\n",
       "</style>\n",
       "<table border=\"1\" class=\"dataframe\">\n",
       "  <thead>\n",
       "    <tr style=\"text-align: right;\">\n",
       "      <th></th>\n",
       "      <th>id</th>\n",
       "      <th>imdb_id</th>\n",
       "      <th>original_title</th>\n",
       "      <th>release_date</th>\n",
       "      <th>length</th>\n",
       "      <th>status</th>\n",
       "      <th>popularity</th>\n",
       "      <th>original_language</th>\n",
       "      <th>adult</th>\n",
       "      <th>overview</th>\n",
       "      <th>homepage</th>\n",
       "      <th>budget</th>\n",
       "      <th>revenue</th>\n",
       "      <th>genres</th>\n",
       "    </tr>\n",
       "  </thead>\n",
       "  <tbody>\n",
       "    <tr>\n",
       "      <th>0</th>\n",
       "      <td>862</td>\n",
       "      <td>tt0114709</td>\n",
       "      <td>Toy Story</td>\n",
       "      <td>1995-10-30</td>\n",
       "      <td>81.0</td>\n",
       "      <td>Released</td>\n",
       "      <td>21.946943</td>\n",
       "      <td>en</td>\n",
       "      <td>False</td>\n",
       "      <td>Led by Woody, Andy's toys live happily in his ...</td>\n",
       "      <td>http://toystory.disney.com/toy-story</td>\n",
       "      <td>30000000</td>\n",
       "      <td>373554033.0</td>\n",
       "      <td>Animation, Comedy, Family</td>\n",
       "    </tr>\n",
       "  </tbody>\n",
       "</table>\n",
       "</div>"
      ],
      "text/plain": [
       "    id    imdb_id original_title release_date  length    status  popularity  \\\n",
       "0  862  tt0114709      Toy Story   1995-10-30    81.0  Released   21.946943   \n",
       "\n",
       "  original_language  adult                                           overview  \\\n",
       "0                en  False  Led by Woody, Andy's toys live happily in his ...   \n",
       "\n",
       "                               homepage    budget      revenue  \\\n",
       "0  http://toystory.disney.com/toy-story  30000000  373554033.0   \n",
       "\n",
       "                      genres  \n",
       "0  Animation, Comedy, Family  "
      ]
     },
     "execution_count": 14,
     "metadata": {},
     "output_type": "execute_result"
    }
   ],
   "source": [
    "movie_file_small = os.path.join('Resources2','movies_small.csv')\n",
    "movie_small_df_new = pd.read_csv(movie_file_small)\n",
    "movie_small_df_new.head(1)\n"
   ]
  },
  {
   "cell_type": "code",
   "execution_count": null,
   "metadata": {},
   "outputs": [],
   "source": [
    "# Coverting column datatype to string\n",
    "movie_small_df_new['imdb_id'] = movie_small_df_new['imdb_id'].astype(str)\n",
    "movie_small_df_new['imdb_id'].dtype\n"
   ]
  },
  {
   "cell_type": "code",
   "execution_count": null,
   "metadata": {},
   "outputs": [],
   "source": [
    "# Removing leading characters 'tt' and 'o' from imdb_id column\n",
    "\n",
    "movie_small_df_new['imdb_id_new'] = ''\n",
    "\n",
    "\n",
    "for index, row in movie_small_df_new.iterrows():\n",
    "    \n",
    "    imdb = movie_small_df_new.loc[index,'imdb_id']\n",
    "    imdb1 = imdb.lstrip('t')\n",
    "    imdb2 = imdb1.lstrip('0')\n",
    "    movie_small_df_new.loc[index,'imdb_id_new'] = imdb2        \n",
    "  \n",
    "  "
   ]
  },
  {
   "cell_type": "code",
   "execution_count": null,
   "metadata": {},
   "outputs": [],
   "source": [
    "movie_small_df_new.head(2)"
   ]
  },
  {
   "cell_type": "code",
   "execution_count": null,
   "metadata": {},
   "outputs": [],
   "source": [
    "# Saving updated dataframe to another csv file\n",
    "movie_small_df_new.to_csv('Resources2/movies_cleaned_small.csv', header=True, index=False) \n"
   ]
  },
  {
   "cell_type": "code",
   "execution_count": null,
   "metadata": {},
   "outputs": [],
   "source": []
  },
  {
   "cell_type": "code",
   "execution_count": null,
   "metadata": {},
   "outputs": [],
   "source": [
    "''' PRODUCTION TABLE '''\n",
    "\n",
    "# Creating new 'production_df' dataframe from 'movie_df' dataframe\n",
    "production_df = movie_df[['id','production_companies', 'production_countries']].copy()\n",
    "production_df.head(2)\n"
   ]
  },
  {
   "cell_type": "code",
   "execution_count": null,
   "metadata": {},
   "outputs": [],
   "source": [
    "# Creating a new dataframe\n",
    "production_df_new = pd.DataFrame()\n",
    "\n",
    "## Fetching production company , production countries from 'production_df' dataframe ##\n",
    "\n",
    "production_df['companies'] = ''\n",
    "production_df['countries'] = ''\n",
    "\n",
    "for index, row in production_df.iterrows():\n",
    "    \n",
    "    print(f\"-index {index}-\")\n",
    "    production_df_new.loc[index,'id'] = production_df.iloc[index]['id']    \n",
    "    # Creating empty list\n",
    "    production_companies = []\n",
    "    production_countries = []\n",
    "    \n",
    "    try:\n",
    "        \n",
    "        # Fetching production company information from list of dictionaries\n",
    "        companies = production_df.iloc[index]['production_companies']\n",
    "        companies = eval(companies)\n",
    "        for i in range(0,len(companies)):\n",
    "            production_companies.append(companies[i]['name'])\n",
    "            companies_listToStr = ', '.join([str(pc) for pc in production_companies]) \n",
    "            production_df.loc[index, 'companies'] = companies_listToStr\n",
    "            production_df_new.loc[index,'production_companies'] = companies_listToStr\n",
    "\n",
    "        # Fetching production country information from list of dictionaries\n",
    "        countries = production_df.iloc[index]['production_countries']\n",
    "        countries = eval(countries)\n",
    "        for i in range(0,len(countries)):\n",
    "            production_countries.append(countries[i]['name'])\n",
    "            countries_listToStr = ', '.join([str(pc) for pc in production_countries]) \n",
    "            production_df.loc[index, 'countries'] = countries_listToStr\n",
    "            production_df_new.loc[index,'production_countries'] = countries_listToStr\n",
    "            \n",
    "    except:\n",
    "        pass\n",
    "    \n",
    "    # Breaking loop at 10000 record\n",
    "    if(index == 10000):\n",
    "          break\n"
   ]
  },
  {
   "cell_type": "code",
   "execution_count": null,
   "metadata": {},
   "outputs": [],
   "source": [
    "production_df_new.count()"
   ]
  },
  {
   "cell_type": "code",
   "execution_count": null,
   "metadata": {},
   "outputs": [],
   "source": [
    "production_df_new.head()"
   ]
  },
  {
   "cell_type": "code",
   "execution_count": null,
   "metadata": {},
   "outputs": [],
   "source": [
    "# Saving updated dataframe to csv file\n",
    "production_df_new.to_csv('Resources2/production_small.csv', header=True, index=False) "
   ]
  },
  {
   "cell_type": "code",
   "execution_count": null,
   "metadata": {},
   "outputs": [],
   "source": []
  },
  {
   "cell_type": "code",
   "execution_count": null,
   "metadata": {},
   "outputs": [],
   "source": [
    "''' CREDITS TABLE '''"
   ]
  },
  {
   "cell_type": "code",
   "execution_count": null,
   "metadata": {},
   "outputs": [],
   "source": [
    "cast_crew_df.head()\n"
   ]
  },
  {
   "cell_type": "code",
   "execution_count": null,
   "metadata": {},
   "outputs": [],
   "source": [
    "cast_crew_df['id'].dtype "
   ]
  },
  {
   "cell_type": "code",
   "execution_count": null,
   "metadata": {},
   "outputs": [],
   "source": [
    "# Creating a new dataframe\n",
    "credits_df_new = pd.DataFrame()\n",
    "\n",
    "## Fetching actors name, director and producers from 'crew' column in 'cast_crew_df' dataframe ##\n",
    "\n",
    "cast_crew_df['actors'] = ''\n",
    "cast_crew_df['director'] = ''\n",
    "cast_crew_df['producer'] = ''\n",
    "\n",
    "\n",
    "for index, row in cast_crew_df.iterrows():\n",
    "    actors_name=[]\n",
    "    directors_name = []\n",
    "    producers_name = []\n",
    "    print(f\"-index {index}-\")\n",
    "    \n",
    "    try:\n",
    "        credits_df_new.loc[index,'id'] = cast_crew_df.loc[index,'id']\n",
    "        \n",
    "        cast = cast_crew_df.iloc[index]['cast']\n",
    "        cast = eval(cast)\n",
    "        for i in range(0,len(cast)):\n",
    "            actors_name.append(cast[i]['name'])\n",
    "            if (i == 4):\n",
    "                actors_listToStr = ', '.join([str(actor) for actor in actors_name]) \n",
    "                cast_crew_df.loc[index,'actors'] = actors_listToStr\n",
    "                credits_df_new.loc[index,'actors'] = actors_listToStr\n",
    "                break\n",
    "\n",
    "        crew = cast_crew_df.iloc[index]['crew']\n",
    "        crew = eval(crew)\n",
    "        for i in range(0,len(crew)):\n",
    "            if (crew[i]['job'] == 'Director'):\n",
    "                directors_name.append(crew[i]['name'])\n",
    "\n",
    "\n",
    "            if (crew[i]['job'] == 'Producer'):\n",
    "                producers_name.append(crew[i]['name'])\n",
    "\n",
    "        director_name = ', '.join([str(director) for director in directors_name])\n",
    "        cast_crew_df.loc[index,'director'] = director_name\n",
    "        credits_df_new.loc[index,'director'] = director_name\n",
    "\n",
    "        producer_name = ', '.join([str(producer) for producer in producers_name])\n",
    "        cast_crew_df.loc[index,'producer'] = producer_name \n",
    "        credits_df_new.loc[index,'producer'] = producer_name\n",
    "        \n",
    "    except:\n",
    "        print('error')\n",
    "                \n",
    "    if (index == 10000):\n",
    "        break\n",
    "        "
   ]
  },
  {
   "cell_type": "code",
   "execution_count": null,
   "metadata": {},
   "outputs": [],
   "source": [
    "credits_df_new.count()"
   ]
  },
  {
   "cell_type": "code",
   "execution_count": null,
   "metadata": {},
   "outputs": [],
   "source": [
    "credits_df_new.head()"
   ]
  },
  {
   "cell_type": "code",
   "execution_count": null,
   "metadata": {},
   "outputs": [],
   "source": [
    "#credits_df_new['id'] = credits_df_new['id'].astype(str)\n",
    "credits_df_new['id'].dtype "
   ]
  },
  {
   "cell_type": "code",
   "execution_count": null,
   "metadata": {},
   "outputs": [],
   "source": [
    "credits_df_new['id'] = credits_df_new['id'].astype(int)"
   ]
  },
  {
   "cell_type": "code",
   "execution_count": null,
   "metadata": {},
   "outputs": [],
   "source": [
    "credits_df_new['id'].head()"
   ]
  },
  {
   "cell_type": "code",
   "execution_count": null,
   "metadata": {},
   "outputs": [],
   "source": [
    "# Saving updated dataframe to csv file\n",
    "credits_df_new.to_csv('Resources2/credits_small.csv', header=True, index=False) "
   ]
  },
  {
   "cell_type": "code",
   "execution_count": null,
   "metadata": {},
   "outputs": [],
   "source": []
  },
  {
   "cell_type": "code",
   "execution_count": null,
   "metadata": {},
   "outputs": [],
   "source": []
  },
  {
   "cell_type": "code",
   "execution_count": null,
   "metadata": {},
   "outputs": [],
   "source": [
    "''' LINKS TABLE '''"
   ]
  },
  {
   "cell_type": "code",
   "execution_count": null,
   "metadata": {},
   "outputs": [],
   "source": [
    "# Rename column names to in 'links_df' dataframe\n",
    "links_df_new  = links_df.rename(columns={'imdbId':'imdb_id'})\n",
    "links_df_new  = links_df_new.rename(columns={'tmdbId':'tmdb_id'})\n",
    "links_df_new  = links_df_new.rename(columns={'movieId':'movie_id'})\n",
    "\n",
    "# Removing column tmdbId from dataframe\n",
    "links_df_new = links_df_new.drop(['tmdb_id'], axis = 1)  \n",
    "\n",
    "# final datframe\n",
    "links_df_final = links_df_new.copy()\n",
    "links_df_final.head(5) \n"
   ]
  },
  {
   "cell_type": "code",
   "execution_count": null,
   "metadata": {},
   "outputs": [],
   "source": [
    "links_df_final.count()"
   ]
  },
  {
   "cell_type": "code",
   "execution_count": null,
   "metadata": {},
   "outputs": [],
   "source": [
    "links_df_final.head()"
   ]
  },
  {
   "cell_type": "code",
   "execution_count": null,
   "metadata": {},
   "outputs": [],
   "source": [
    "# Creating a new dataframe\n",
    "links_df_new = pd.DataFrame()"
   ]
  },
  {
   "cell_type": "code",
   "execution_count": null,
   "metadata": {},
   "outputs": [],
   "source": [
    "for index, row in links_df_final.iterrows():\n",
    "    \n",
    "    print(f\"-index {index}-\")\n",
    "   \n",
    "    links_df_new.loc[index,'movie_id'] = links_df_final.loc[index,'movie_id']   \n",
    "    links_df_new.loc[index,'imdb_id'] = links_df_final.loc[index,'imdb_id']   \n",
    "    \n",
    "    if (index == 10000):\n",
    "        break"
   ]
  },
  {
   "cell_type": "code",
   "execution_count": null,
   "metadata": {},
   "outputs": [],
   "source": [
    "links_df_new.head()"
   ]
  },
  {
   "cell_type": "code",
   "execution_count": null,
   "metadata": {},
   "outputs": [],
   "source": [
    "links_df_new.count()"
   ]
  },
  {
   "cell_type": "code",
   "execution_count": null,
   "metadata": {},
   "outputs": [],
   "source": [
    "# Converting float to int datatype\n",
    "links_df_new['movie_id'] = links_df_new['movie_id'].astype(int)\n",
    "links_df_new['imdb_id'] = links_df_new['imdb_id'].astype(int)"
   ]
  },
  {
   "cell_type": "code",
   "execution_count": null,
   "metadata": {},
   "outputs": [],
   "source": [
    "links_df_new.to_csv('Resources2/links_small.csv', header=True, index=False) "
   ]
  },
  {
   "cell_type": "code",
   "execution_count": null,
   "metadata": {},
   "outputs": [],
   "source": []
  },
  {
   "cell_type": "code",
   "execution_count": null,
   "metadata": {},
   "outputs": [],
   "source": []
  },
  {
   "cell_type": "code",
   "execution_count": null,
   "metadata": {},
   "outputs": [],
   "source": [
    "''' RATINGS TABlE '''"
   ]
  },
  {
   "cell_type": "code",
   "execution_count": null,
   "metadata": {},
   "outputs": [],
   "source": [
    "# Removing columns that are not required from 'new_ratings_df' dataframe\n",
    "new_ratings_df = ratings_df[['movieId','rating']].copy()\n",
    "new_ratings_df.head(1)\n"
   ]
  },
  {
   "cell_type": "code",
   "execution_count": null,
   "metadata": {},
   "outputs": [],
   "source": [
    "# Rename 'movieId' column to 'movie_id' in 'new_ratings_df' dataframe\n",
    "new_ratings_df  = new_ratings_df.rename(columns={'movieId':'movie_id'})\n",
    "new_ratings_df.head(1)\n",
    "\n",
    "# final datframe\n",
    "ratings_df_final = new_ratings_df.copy()\n",
    "ratings_df_final.head() \n"
   ]
  },
  {
   "cell_type": "code",
   "execution_count": null,
   "metadata": {},
   "outputs": [],
   "source": [
    "# Creating a new dataframe\n",
    "ratings_df_new = pd.DataFrame()\n",
    "\n",
    "\n",
    "for index, row in ratings_df_final.iterrows():\n",
    "    \n",
    "    print(f\"-index {index}-\")\n",
    "   \n",
    "    ratings_df_new.loc[index,'movie_id'] = ratings_df_final.loc[index,'movie_id']   \n",
    "    ratings_df_new.loc[index,'rating'] = ratings_df_final.loc[index,'rating']   \n",
    "    \n",
    "    if (index == 10000):\n",
    "        break\n",
    "        "
   ]
  },
  {
   "cell_type": "code",
   "execution_count": null,
   "metadata": {},
   "outputs": [],
   "source": [
    "ratings_df_new.head()"
   ]
  },
  {
   "cell_type": "code",
   "execution_count": null,
   "metadata": {},
   "outputs": [],
   "source": [
    "ratings_df_new['movie_id'] = ratings_df_new['movie_id'].astype(int)"
   ]
  },
  {
   "cell_type": "code",
   "execution_count": null,
   "metadata": {},
   "outputs": [],
   "source": [
    "ratings_df_new.head()"
   ]
  },
  {
   "cell_type": "code",
   "execution_count": null,
   "metadata": {},
   "outputs": [],
   "source": [
    "# Saving updated dataframe to csv file\n",
    "ratings_df_new.to_csv('Resources2/ratings_small.csv', header=True, index=False) \n"
   ]
  },
  {
   "cell_type": "code",
   "execution_count": null,
   "metadata": {},
   "outputs": [],
   "source": []
  },
  {
   "cell_type": "code",
   "execution_count": null,
   "metadata": {},
   "outputs": [],
   "source": []
  }
 ],
 "metadata": {
  "kernelspec": {
   "display_name": "Python 3",
   "language": "python",
   "name": "python3"
  },
  "language_info": {
   "codemirror_mode": {
    "name": "ipython",
    "version": 3
   },
   "file_extension": ".py",
   "mimetype": "text/x-python",
   "name": "python",
   "nbconvert_exporter": "python",
   "pygments_lexer": "ipython3",
   "version": "3.7.1"
  }
 },
 "nbformat": 4,
 "nbformat_minor": 2
}
