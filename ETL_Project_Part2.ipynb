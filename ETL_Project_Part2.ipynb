{
 "cells": [
  {
   "cell_type": "markdown",
   "metadata": {},
   "source": [
    "# ETL Project - The Movie DB"
   ]
  },
  {
   "cell_type": "code",
   "execution_count": 1,
   "metadata": {},
   "outputs": [],
   "source": [
    "# Import Dependencies\n",
    "import pandas as pd\n",
    "from sqlalchemy import create_engine\n",
    "import os\n"
   ]
  },
  {
   "cell_type": "markdown",
   "metadata": {},
   "source": [
    "###  Tranformation of Data ..Continued"
   ]
  },
  {
   "cell_type": "code",
   "execution_count": null,
   "metadata": {},
   "outputs": [],
   "source": [
    "## MOVIES DATAFRAME ##"
   ]
  },
  {
   "cell_type": "code",
   "execution_count": 2,
   "metadata": {},
   "outputs": [
    {
     "data": {
      "text/html": [
       "<div>\n",
       "<style scoped>\n",
       "    .dataframe tbody tr th:only-of-type {\n",
       "        vertical-align: middle;\n",
       "    }\n",
       "\n",
       "    .dataframe tbody tr th {\n",
       "        vertical-align: top;\n",
       "    }\n",
       "\n",
       "    .dataframe thead th {\n",
       "        text-align: right;\n",
       "    }\n",
       "</style>\n",
       "<table border=\"1\" class=\"dataframe\">\n",
       "  <thead>\n",
       "    <tr style=\"text-align: right;\">\n",
       "      <th></th>\n",
       "      <th>id</th>\n",
       "      <th>imdb_id</th>\n",
       "      <th>original_title</th>\n",
       "      <th>release_date</th>\n",
       "      <th>length</th>\n",
       "      <th>status</th>\n",
       "      <th>popularity</th>\n",
       "      <th>original_language</th>\n",
       "      <th>adult</th>\n",
       "      <th>overview</th>\n",
       "      <th>homepage</th>\n",
       "      <th>budget</th>\n",
       "      <th>revenue</th>\n",
       "      <th>genres</th>\n",
       "      <th>imdb_id_new</th>\n",
       "    </tr>\n",
       "  </thead>\n",
       "  <tbody>\n",
       "    <tr>\n",
       "      <th>0</th>\n",
       "      <td>862</td>\n",
       "      <td>tt0114709</td>\n",
       "      <td>Toy Story</td>\n",
       "      <td>1995-10-30</td>\n",
       "      <td>81.0</td>\n",
       "      <td>Released</td>\n",
       "      <td>21.946943</td>\n",
       "      <td>en</td>\n",
       "      <td>False</td>\n",
       "      <td>Led by Woody, Andy's toys live happily in his ...</td>\n",
       "      <td>http://toystory.disney.com/toy-story</td>\n",
       "      <td>30000000</td>\n",
       "      <td>373554033.0</td>\n",
       "      <td>Animation, Comedy, Family</td>\n",
       "      <td>114709.0</td>\n",
       "    </tr>\n",
       "  </tbody>\n",
       "</table>\n",
       "</div>"
      ],
      "text/plain": [
       "    id    imdb_id original_title release_date  length    status  popularity  \\\n",
       "0  862  tt0114709      Toy Story   1995-10-30    81.0  Released   21.946943   \n",
       "\n",
       "  original_language  adult                                           overview  \\\n",
       "0                en  False  Led by Woody, Andy's toys live happily in his ...   \n",
       "\n",
       "                               homepage    budget      revenue  \\\n",
       "0  http://toystory.disney.com/toy-story  30000000  373554033.0   \n",
       "\n",
       "                      genres  imdb_id_new  \n",
       "0  Animation, Comedy, Family     114709.0  "
      ]
     },
     "execution_count": 2,
     "metadata": {},
     "output_type": "execute_result"
    }
   ],
   "source": [
    "# Reading smaller version of data file\n",
    "movie_file_small_cleaned = os.path.join('Resources2','movies_cleaned_small.csv')\n",
    "movie_small_df_new = pd.read_csv(movie_file_small_cleaned)\n",
    "movie_small_df_new.head(1)\n"
   ]
  },
  {
   "cell_type": "code",
   "execution_count": null,
   "metadata": {},
   "outputs": [],
   "source": []
  },
  {
   "cell_type": "code",
   "execution_count": 3,
   "metadata": {},
   "outputs": [
    {
     "data": {
      "text/html": [
       "<div>\n",
       "<style scoped>\n",
       "    .dataframe tbody tr th:only-of-type {\n",
       "        vertical-align: middle;\n",
       "    }\n",
       "\n",
       "    .dataframe tbody tr th {\n",
       "        vertical-align: top;\n",
       "    }\n",
       "\n",
       "    .dataframe thead th {\n",
       "        text-align: right;\n",
       "    }\n",
       "</style>\n",
       "<table border=\"1\" class=\"dataframe\">\n",
       "  <thead>\n",
       "    <tr style=\"text-align: right;\">\n",
       "      <th></th>\n",
       "      <th>id</th>\n",
       "      <th>original_title</th>\n",
       "      <th>release_date</th>\n",
       "      <th>length</th>\n",
       "      <th>status</th>\n",
       "      <th>popularity</th>\n",
       "      <th>original_language</th>\n",
       "      <th>adult</th>\n",
       "      <th>overview</th>\n",
       "      <th>homepage</th>\n",
       "      <th>budget</th>\n",
       "      <th>revenue</th>\n",
       "      <th>genres</th>\n",
       "      <th>imdb_id</th>\n",
       "    </tr>\n",
       "  </thead>\n",
       "  <tbody>\n",
       "    <tr>\n",
       "      <th>0</th>\n",
       "      <td>862</td>\n",
       "      <td>Toy Story</td>\n",
       "      <td>1995-10-30</td>\n",
       "      <td>81.0</td>\n",
       "      <td>Released</td>\n",
       "      <td>21.946943</td>\n",
       "      <td>en</td>\n",
       "      <td>False</td>\n",
       "      <td>Led by Woody, Andy's toys live happily in his ...</td>\n",
       "      <td>http://toystory.disney.com/toy-story</td>\n",
       "      <td>30000000</td>\n",
       "      <td>373554033.0</td>\n",
       "      <td>Animation, Comedy, Family</td>\n",
       "      <td>114709.0</td>\n",
       "    </tr>\n",
       "  </tbody>\n",
       "</table>\n",
       "</div>"
      ],
      "text/plain": [
       "    id original_title release_date  length    status  popularity  \\\n",
       "0  862      Toy Story   1995-10-30    81.0  Released   21.946943   \n",
       "\n",
       "  original_language  adult                                           overview  \\\n",
       "0                en  False  Led by Woody, Andy's toys live happily in his ...   \n",
       "\n",
       "                               homepage    budget      revenue  \\\n",
       "0  http://toystory.disney.com/toy-story  30000000  373554033.0   \n",
       "\n",
       "                      genres   imdb_id  \n",
       "0  Animation, Comedy, Family  114709.0  "
      ]
     },
     "execution_count": 3,
     "metadata": {},
     "output_type": "execute_result"
    }
   ],
   "source": [
    "# Removing column imdb from dataframe\n",
    "movie_small_df_new = movie_small_df_new.drop(['imdb_id'], axis = 1)\n",
    "movie_small_df_new  = movie_small_df_new.rename(columns={'imdb_id_new':'imdb_id'})\n",
    "movie_small_df_new.head(1)\n"
   ]
  },
  {
   "cell_type": "code",
   "execution_count": null,
   "metadata": {},
   "outputs": [],
   "source": []
  },
  {
   "cell_type": "code",
   "execution_count": 4,
   "metadata": {},
   "outputs": [
    {
     "data": {
      "text/html": [
       "<div>\n",
       "<style scoped>\n",
       "    .dataframe tbody tr th:only-of-type {\n",
       "        vertical-align: middle;\n",
       "    }\n",
       "\n",
       "    .dataframe tbody tr th {\n",
       "        vertical-align: top;\n",
       "    }\n",
       "\n",
       "    .dataframe thead th {\n",
       "        text-align: right;\n",
       "    }\n",
       "</style>\n",
       "<table border=\"1\" class=\"dataframe\">\n",
       "  <thead>\n",
       "    <tr style=\"text-align: right;\">\n",
       "      <th></th>\n",
       "      <th>id</th>\n",
       "      <th>original_title</th>\n",
       "      <th>release_date</th>\n",
       "      <th>length</th>\n",
       "      <th>status</th>\n",
       "      <th>popularity</th>\n",
       "      <th>original_language</th>\n",
       "      <th>adult</th>\n",
       "      <th>overview</th>\n",
       "      <th>homepage</th>\n",
       "      <th>budget</th>\n",
       "      <th>revenue</th>\n",
       "      <th>genres</th>\n",
       "      <th>imdb_id</th>\n",
       "    </tr>\n",
       "  </thead>\n",
       "  <tbody>\n",
       "    <tr>\n",
       "      <th>0</th>\n",
       "      <td>862</td>\n",
       "      <td>Toy Story</td>\n",
       "      <td>1995-10-30</td>\n",
       "      <td>81.0</td>\n",
       "      <td>Released</td>\n",
       "      <td>21</td>\n",
       "      <td>en</td>\n",
       "      <td>False</td>\n",
       "      <td>Led by Woody, Andy's toys live happily in his ...</td>\n",
       "      <td>http://toystory.disney.com/toy-story</td>\n",
       "      <td>30000000</td>\n",
       "      <td>373554033.0</td>\n",
       "      <td>Animation, Comedy, Family</td>\n",
       "      <td>114709.0</td>\n",
       "    </tr>\n",
       "  </tbody>\n",
       "</table>\n",
       "</div>"
      ],
      "text/plain": [
       "    id original_title release_date  length    status  popularity  \\\n",
       "0  862      Toy Story   1995-10-30    81.0  Released          21   \n",
       "\n",
       "  original_language  adult                                           overview  \\\n",
       "0                en  False  Led by Woody, Andy's toys live happily in his ...   \n",
       "\n",
       "                               homepage    budget      revenue  \\\n",
       "0  http://toystory.disney.com/toy-story  30000000  373554033.0   \n",
       "\n",
       "                      genres   imdb_id  \n",
       "0  Animation, Comedy, Family  114709.0  "
      ]
     },
     "execution_count": 4,
     "metadata": {},
     "output_type": "execute_result"
    }
   ],
   "source": [
    "# Changing datatype of popularity column to integer\n",
    "movie_small_df_new['popularity'] = movie_small_df_new['popularity'].astype(int)\n",
    "movie_small_df_new.head(1)\n"
   ]
  },
  {
   "cell_type": "code",
   "execution_count": 5,
   "metadata": {},
   "outputs": [
    {
     "data": {
      "text/html": [
       "<div>\n",
       "<style scoped>\n",
       "    .dataframe tbody tr th:only-of-type {\n",
       "        vertical-align: middle;\n",
       "    }\n",
       "\n",
       "    .dataframe tbody tr th {\n",
       "        vertical-align: top;\n",
       "    }\n",
       "\n",
       "    .dataframe thead th {\n",
       "        text-align: right;\n",
       "    }\n",
       "</style>\n",
       "<table border=\"1\" class=\"dataframe\">\n",
       "  <thead>\n",
       "    <tr style=\"text-align: right;\">\n",
       "      <th></th>\n",
       "      <th>id</th>\n",
       "      <th>original_title</th>\n",
       "      <th>release_date</th>\n",
       "      <th>length</th>\n",
       "      <th>status</th>\n",
       "      <th>popularity</th>\n",
       "      <th>original_language</th>\n",
       "      <th>adult</th>\n",
       "      <th>overview</th>\n",
       "      <th>homepage</th>\n",
       "      <th>budget</th>\n",
       "      <th>revenue</th>\n",
       "      <th>genres</th>\n",
       "      <th>imdb_id</th>\n",
       "    </tr>\n",
       "  </thead>\n",
       "  <tbody>\n",
       "    <tr>\n",
       "      <th>0</th>\n",
       "      <td>862</td>\n",
       "      <td>Toy Story</td>\n",
       "      <td>1995-10-30</td>\n",
       "      <td>81.0</td>\n",
       "      <td>Released</td>\n",
       "      <td>21</td>\n",
       "      <td>en</td>\n",
       "      <td>False</td>\n",
       "      <td>Led by Woody, Andy's toys live happily in his ...</td>\n",
       "      <td>http://toystory.disney.com/toy-story</td>\n",
       "      <td>30000000</td>\n",
       "      <td>373554033</td>\n",
       "      <td>Animation, Comedy, Family</td>\n",
       "      <td>114709.0</td>\n",
       "    </tr>\n",
       "  </tbody>\n",
       "</table>\n",
       "</div>"
      ],
      "text/plain": [
       "    id original_title release_date  length    status  popularity  \\\n",
       "0  862      Toy Story   1995-10-30    81.0  Released          21   \n",
       "\n",
       "  original_language  adult                                           overview  \\\n",
       "0                en  False  Led by Woody, Andy's toys live happily in his ...   \n",
       "\n",
       "                               homepage    budget    revenue  \\\n",
       "0  http://toystory.disney.com/toy-story  30000000  373554033   \n",
       "\n",
       "                      genres   imdb_id  \n",
       "0  Animation, Comedy, Family  114709.0  "
      ]
     },
     "execution_count": 5,
     "metadata": {},
     "output_type": "execute_result"
    }
   ],
   "source": [
    "# Changing datatype of revenue column to integer\n",
    "movie_small_df_new['revenue'] = movie_small_df_new['revenue'].astype(int)\n",
    "movie_small_df_new.head(1)\n"
   ]
  },
  {
   "cell_type": "code",
   "execution_count": 6,
   "metadata": {},
   "outputs": [],
   "source": [
    "# Removing duplicates records from dataframe\n",
    "movie_small_df_new = movie_small_df_new.drop_duplicates(subset =\"id\", keep = False) \n"
   ]
  },
  {
   "cell_type": "code",
   "execution_count": 14,
   "metadata": {},
   "outputs": [],
   "source": [
    "movie_small_df_new['imdb_id'] = pd.to_numeric(movie_small_df_new['imdb_id'])"
   ]
  },
  {
   "cell_type": "code",
   "execution_count": 15,
   "metadata": {},
   "outputs": [
    {
     "data": {
      "text/plain": [
       "dtype('float64')"
      ]
     },
     "execution_count": 15,
     "metadata": {},
     "output_type": "execute_result"
    }
   ],
   "source": [
    "movie_small_df_new['imdb_id'].dtype"
   ]
  },
  {
   "cell_type": "code",
   "execution_count": 17,
   "metadata": {},
   "outputs": [
    {
     "data": {
      "text/html": [
       "<div>\n",
       "<style scoped>\n",
       "    .dataframe tbody tr th:only-of-type {\n",
       "        vertical-align: middle;\n",
       "    }\n",
       "\n",
       "    .dataframe tbody tr th {\n",
       "        vertical-align: top;\n",
       "    }\n",
       "\n",
       "    .dataframe thead th {\n",
       "        text-align: right;\n",
       "    }\n",
       "</style>\n",
       "<table border=\"1\" class=\"dataframe\">\n",
       "  <thead>\n",
       "    <tr style=\"text-align: right;\">\n",
       "      <th></th>\n",
       "      <th>id</th>\n",
       "      <th>original_title</th>\n",
       "      <th>release_date</th>\n",
       "      <th>length</th>\n",
       "      <th>status</th>\n",
       "      <th>popularity</th>\n",
       "      <th>original_language</th>\n",
       "      <th>adult</th>\n",
       "      <th>overview</th>\n",
       "      <th>homepage</th>\n",
       "      <th>budget</th>\n",
       "      <th>revenue</th>\n",
       "      <th>genres</th>\n",
       "      <th>imdb_id</th>\n",
       "    </tr>\n",
       "  </thead>\n",
       "  <tbody>\n",
       "    <tr>\n",
       "      <th>0</th>\n",
       "      <td>862</td>\n",
       "      <td>Toy Story</td>\n",
       "      <td>1995-10-30</td>\n",
       "      <td>81.0</td>\n",
       "      <td>Released</td>\n",
       "      <td>21</td>\n",
       "      <td>en</td>\n",
       "      <td>False</td>\n",
       "      <td>Led by Woody, Andy's toys live happily in his ...</td>\n",
       "      <td>http://toystory.disney.com/toy-story</td>\n",
       "      <td>30000000</td>\n",
       "      <td>373554033</td>\n",
       "      <td>Animation, Comedy, Family</td>\n",
       "      <td>114709.0</td>\n",
       "    </tr>\n",
       "  </tbody>\n",
       "</table>\n",
       "</div>"
      ],
      "text/plain": [
       "    id original_title release_date  length    status  popularity  \\\n",
       "0  862      Toy Story   1995-10-30    81.0  Released          21   \n",
       "\n",
       "  original_language  adult                                           overview  \\\n",
       "0                en  False  Led by Woody, Andy's toys live happily in his ...   \n",
       "\n",
       "                               homepage    budget    revenue  \\\n",
       "0  http://toystory.disney.com/toy-story  30000000  373554033   \n",
       "\n",
       "                      genres   imdb_id  \n",
       "0  Animation, Comedy, Family  114709.0  "
      ]
     },
     "execution_count": 17,
     "metadata": {},
     "output_type": "execute_result"
    }
   ],
   "source": [
    "movie_small_df_new.head(1)"
   ]
  },
  {
   "cell_type": "code",
   "execution_count": 18,
   "metadata": {},
   "outputs": [],
   "source": [
    "movie_small_df_new['imdb_id_2'] = ''"
   ]
  },
  {
   "cell_type": "code",
   "execution_count": 19,
   "metadata": {},
   "outputs": [
    {
     "data": {
      "text/html": [
       "<div>\n",
       "<style scoped>\n",
       "    .dataframe tbody tr th:only-of-type {\n",
       "        vertical-align: middle;\n",
       "    }\n",
       "\n",
       "    .dataframe tbody tr th {\n",
       "        vertical-align: top;\n",
       "    }\n",
       "\n",
       "    .dataframe thead th {\n",
       "        text-align: right;\n",
       "    }\n",
       "</style>\n",
       "<table border=\"1\" class=\"dataframe\">\n",
       "  <thead>\n",
       "    <tr style=\"text-align: right;\">\n",
       "      <th></th>\n",
       "      <th>id</th>\n",
       "      <th>original_title</th>\n",
       "      <th>release_date</th>\n",
       "      <th>length</th>\n",
       "      <th>status</th>\n",
       "      <th>popularity</th>\n",
       "      <th>original_language</th>\n",
       "      <th>adult</th>\n",
       "      <th>overview</th>\n",
       "      <th>homepage</th>\n",
       "      <th>budget</th>\n",
       "      <th>revenue</th>\n",
       "      <th>genres</th>\n",
       "      <th>imdb_id</th>\n",
       "      <th>imdb_id_2</th>\n",
       "    </tr>\n",
       "  </thead>\n",
       "  <tbody>\n",
       "    <tr>\n",
       "      <th>0</th>\n",
       "      <td>862</td>\n",
       "      <td>Toy Story</td>\n",
       "      <td>1995-10-30</td>\n",
       "      <td>81.0</td>\n",
       "      <td>Released</td>\n",
       "      <td>21</td>\n",
       "      <td>en</td>\n",
       "      <td>False</td>\n",
       "      <td>Led by Woody, Andy's toys live happily in his ...</td>\n",
       "      <td>http://toystory.disney.com/toy-story</td>\n",
       "      <td>30000000</td>\n",
       "      <td>373554033</td>\n",
       "      <td>Animation, Comedy, Family</td>\n",
       "      <td>114709.0</td>\n",
       "      <td></td>\n",
       "    </tr>\n",
       "  </tbody>\n",
       "</table>\n",
       "</div>"
      ],
      "text/plain": [
       "    id original_title release_date  length    status  popularity  \\\n",
       "0  862      Toy Story   1995-10-30    81.0  Released          21   \n",
       "\n",
       "  original_language  adult                                           overview  \\\n",
       "0                en  False  Led by Woody, Andy's toys live happily in his ...   \n",
       "\n",
       "                               homepage    budget    revenue  \\\n",
       "0  http://toystory.disney.com/toy-story  30000000  373554033   \n",
       "\n",
       "                      genres   imdb_id imdb_id_2  \n",
       "0  Animation, Comedy, Family  114709.0            "
      ]
     },
     "execution_count": 19,
     "metadata": {},
     "output_type": "execute_result"
    }
   ],
   "source": [
    "movie_small_df_new.head(1)"
   ]
  },
  {
   "cell_type": "code",
   "execution_count": 25,
   "metadata": {},
   "outputs": [],
   "source": [
    "# replacing nan values \n",
    "movie_small_df_new['imdb_id_2'].fillna(0, inplace = True) \n"
   ]
  },
  {
   "cell_type": "code",
   "execution_count": 26,
   "metadata": {},
   "outputs": [],
   "source": [
    "movie_small_df_new['imdb_id_2'] = movie_small_df_new['imdb_id_2'].astype(int)\n"
   ]
  },
  {
   "cell_type": "code",
   "execution_count": 29,
   "metadata": {},
   "outputs": [
    {
     "data": {
      "text/html": [
       "<div>\n",
       "<style scoped>\n",
       "    .dataframe tbody tr th:only-of-type {\n",
       "        vertical-align: middle;\n",
       "    }\n",
       "\n",
       "    .dataframe tbody tr th {\n",
       "        vertical-align: top;\n",
       "    }\n",
       "\n",
       "    .dataframe thead th {\n",
       "        text-align: right;\n",
       "    }\n",
       "</style>\n",
       "<table border=\"1\" class=\"dataframe\">\n",
       "  <thead>\n",
       "    <tr style=\"text-align: right;\">\n",
       "      <th></th>\n",
       "      <th>id</th>\n",
       "      <th>original_title</th>\n",
       "      <th>release_date</th>\n",
       "      <th>length</th>\n",
       "      <th>status</th>\n",
       "      <th>popularity</th>\n",
       "      <th>original_language</th>\n",
       "      <th>adult</th>\n",
       "      <th>overview</th>\n",
       "      <th>homepage</th>\n",
       "      <th>budget</th>\n",
       "      <th>revenue</th>\n",
       "      <th>genres</th>\n",
       "      <th>imdb_id</th>\n",
       "      <th>imdb_id_2</th>\n",
       "    </tr>\n",
       "  </thead>\n",
       "  <tbody>\n",
       "    <tr>\n",
       "      <th>0</th>\n",
       "      <td>862</td>\n",
       "      <td>Toy Story</td>\n",
       "      <td>1995-10-30</td>\n",
       "      <td>81.0</td>\n",
       "      <td>Released</td>\n",
       "      <td>21</td>\n",
       "      <td>en</td>\n",
       "      <td>False</td>\n",
       "      <td>Led by Woody, Andy's toys live happily in his ...</td>\n",
       "      <td>http://toystory.disney.com/toy-story</td>\n",
       "      <td>30000000</td>\n",
       "      <td>373554033</td>\n",
       "      <td>Animation, Comedy, Family</td>\n",
       "      <td>114709.0</td>\n",
       "      <td>114709</td>\n",
       "    </tr>\n",
       "  </tbody>\n",
       "</table>\n",
       "</div>"
      ],
      "text/plain": [
       "    id original_title release_date  length    status  popularity  \\\n",
       "0  862      Toy Story   1995-10-30    81.0  Released          21   \n",
       "\n",
       "  original_language  adult                                           overview  \\\n",
       "0                en  False  Led by Woody, Andy's toys live happily in his ...   \n",
       "\n",
       "                               homepage    budget    revenue  \\\n",
       "0  http://toystory.disney.com/toy-story  30000000  373554033   \n",
       "\n",
       "                      genres   imdb_id  imdb_id_2  \n",
       "0  Animation, Comedy, Family  114709.0     114709  "
      ]
     },
     "execution_count": 29,
     "metadata": {},
     "output_type": "execute_result"
    }
   ],
   "source": [
    "movie_small_df_new.head(1)"
   ]
  },
  {
   "cell_type": "code",
   "execution_count": 30,
   "metadata": {},
   "outputs": [
    {
     "data": {
      "text/html": [
       "<div>\n",
       "<style scoped>\n",
       "    .dataframe tbody tr th:only-of-type {\n",
       "        vertical-align: middle;\n",
       "    }\n",
       "\n",
       "    .dataframe tbody tr th {\n",
       "        vertical-align: top;\n",
       "    }\n",
       "\n",
       "    .dataframe thead th {\n",
       "        text-align: right;\n",
       "    }\n",
       "</style>\n",
       "<table border=\"1\" class=\"dataframe\">\n",
       "  <thead>\n",
       "    <tr style=\"text-align: right;\">\n",
       "      <th></th>\n",
       "      <th>id</th>\n",
       "      <th>original_title</th>\n",
       "      <th>release_date</th>\n",
       "      <th>length</th>\n",
       "      <th>status</th>\n",
       "      <th>popularity</th>\n",
       "      <th>original_language</th>\n",
       "      <th>adult</th>\n",
       "      <th>overview</th>\n",
       "      <th>homepage</th>\n",
       "      <th>budget</th>\n",
       "      <th>revenue</th>\n",
       "      <th>genres</th>\n",
       "      <th>imdb_id</th>\n",
       "    </tr>\n",
       "  </thead>\n",
       "  <tbody>\n",
       "    <tr>\n",
       "      <th>0</th>\n",
       "      <td>862</td>\n",
       "      <td>Toy Story</td>\n",
       "      <td>1995-10-30</td>\n",
       "      <td>81.0</td>\n",
       "      <td>Released</td>\n",
       "      <td>21</td>\n",
       "      <td>en</td>\n",
       "      <td>False</td>\n",
       "      <td>Led by Woody, Andy's toys live happily in his ...</td>\n",
       "      <td>http://toystory.disney.com/toy-story</td>\n",
       "      <td>30000000</td>\n",
       "      <td>373554033</td>\n",
       "      <td>Animation, Comedy, Family</td>\n",
       "      <td>114709</td>\n",
       "    </tr>\n",
       "  </tbody>\n",
       "</table>\n",
       "</div>"
      ],
      "text/plain": [
       "    id original_title release_date  length    status  popularity  \\\n",
       "0  862      Toy Story   1995-10-30    81.0  Released          21   \n",
       "\n",
       "  original_language  adult                                           overview  \\\n",
       "0                en  False  Led by Woody, Andy's toys live happily in his ...   \n",
       "\n",
       "                               homepage    budget    revenue  \\\n",
       "0  http://toystory.disney.com/toy-story  30000000  373554033   \n",
       "\n",
       "                      genres  imdb_id  \n",
       "0  Animation, Comedy, Family   114709  "
      ]
     },
     "execution_count": 30,
     "metadata": {},
     "output_type": "execute_result"
    }
   ],
   "source": [
    "# Removing column imdb_id and renaming it from dataframe\n",
    "movie_small_df_new = movie_small_df_new.drop(['imdb_id'], axis = 1)\n",
    "movie_small_df_new  = movie_small_df_new.rename(columns={'imdb_id_2':'imdb_id'})\n",
    "movie_small_df_new.head(1)\n"
   ]
  },
  {
   "cell_type": "code",
   "execution_count": 31,
   "metadata": {},
   "outputs": [],
   "source": [
    "# Saving updated dataframe to another csv file\n",
    "movie_small_df_new.to_csv('Resources2/movies_cleaned_small_final.csv', header=True, index=False) \n"
   ]
  },
  {
   "cell_type": "code",
   "execution_count": null,
   "metadata": {},
   "outputs": [],
   "source": []
  },
  {
   "cell_type": "code",
   "execution_count": null,
   "metadata": {},
   "outputs": [],
   "source": [
    "'''READING CLEANED & TRANSFORMED DATA FROM CSV FILES'''"
   ]
  },
  {
   "cell_type": "code",
   "execution_count": null,
   "metadata": {},
   "outputs": [],
   "source": [
    "## MOVIES DATAFRAME ##"
   ]
  },
  {
   "cell_type": "code",
   "execution_count": 57,
   "metadata": {},
   "outputs": [
    {
     "data": {
      "text/html": [
       "<div>\n",
       "<style scoped>\n",
       "    .dataframe tbody tr th:only-of-type {\n",
       "        vertical-align: middle;\n",
       "    }\n",
       "\n",
       "    .dataframe tbody tr th {\n",
       "        vertical-align: top;\n",
       "    }\n",
       "\n",
       "    .dataframe thead th {\n",
       "        text-align: right;\n",
       "    }\n",
       "</style>\n",
       "<table border=\"1\" class=\"dataframe\">\n",
       "  <thead>\n",
       "    <tr style=\"text-align: right;\">\n",
       "      <th></th>\n",
       "      <th>id</th>\n",
       "      <th>original_title</th>\n",
       "      <th>release_date</th>\n",
       "      <th>length</th>\n",
       "      <th>status</th>\n",
       "      <th>popularity</th>\n",
       "      <th>original_language</th>\n",
       "      <th>adult</th>\n",
       "      <th>overview</th>\n",
       "      <th>homepage</th>\n",
       "      <th>budget</th>\n",
       "      <th>revenue</th>\n",
       "      <th>genres</th>\n",
       "      <th>imdb_id</th>\n",
       "    </tr>\n",
       "  </thead>\n",
       "  <tbody>\n",
       "    <tr>\n",
       "      <th>0</th>\n",
       "      <td>862</td>\n",
       "      <td>Toy Story</td>\n",
       "      <td>1995-10-30</td>\n",
       "      <td>81.0</td>\n",
       "      <td>Released</td>\n",
       "      <td>21</td>\n",
       "      <td>en</td>\n",
       "      <td>False</td>\n",
       "      <td>Led by Woody, Andy's toys live happily in his ...</td>\n",
       "      <td>http://toystory.disney.com/toy-story</td>\n",
       "      <td>30000000</td>\n",
       "      <td>373554033</td>\n",
       "      <td>Animation, Comedy, Family</td>\n",
       "      <td>114709</td>\n",
       "    </tr>\n",
       "  </tbody>\n",
       "</table>\n",
       "</div>"
      ],
      "text/plain": [
       "    id original_title release_date  length    status  popularity  \\\n",
       "0  862      Toy Story   1995-10-30    81.0  Released          21   \n",
       "\n",
       "  original_language  adult                                           overview  \\\n",
       "0                en  False  Led by Woody, Andy's toys live happily in his ...   \n",
       "\n",
       "                               homepage    budget    revenue  \\\n",
       "0  http://toystory.disney.com/toy-story  30000000  373554033   \n",
       "\n",
       "                      genres  imdb_id  \n",
       "0  Animation, Comedy, Family   114709  "
      ]
     },
     "execution_count": 57,
     "metadata": {},
     "output_type": "execute_result"
    }
   ],
   "source": [
    "# Reading smaller version of data file\n",
    "movie_file = os.path.join('Resources2','movies_cleaned_small_final.csv')\n",
    "movie_small_df_new = pd.read_csv(movie_file)\n",
    "movie_small_df_new.head(1)\n"
   ]
  },
  {
   "cell_type": "code",
   "execution_count": null,
   "metadata": {},
   "outputs": [],
   "source": []
  },
  {
   "cell_type": "code",
   "execution_count": null,
   "metadata": {},
   "outputs": [],
   "source": [
    "## PRODUCTION DATAFRAME ##"
   ]
  },
  {
   "cell_type": "code",
   "execution_count": 58,
   "metadata": {},
   "outputs": [
    {
     "data": {
      "text/html": [
       "<div>\n",
       "<style scoped>\n",
       "    .dataframe tbody tr th:only-of-type {\n",
       "        vertical-align: middle;\n",
       "    }\n",
       "\n",
       "    .dataframe tbody tr th {\n",
       "        vertical-align: top;\n",
       "    }\n",
       "\n",
       "    .dataframe thead th {\n",
       "        text-align: right;\n",
       "    }\n",
       "</style>\n",
       "<table border=\"1\" class=\"dataframe\">\n",
       "  <thead>\n",
       "    <tr style=\"text-align: right;\">\n",
       "      <th></th>\n",
       "      <th>id</th>\n",
       "      <th>production_companies</th>\n",
       "      <th>production_countries</th>\n",
       "    </tr>\n",
       "  </thead>\n",
       "  <tbody>\n",
       "    <tr>\n",
       "      <th>0</th>\n",
       "      <td>862</td>\n",
       "      <td>Pixar Animation Studios</td>\n",
       "      <td>United States of America</td>\n",
       "    </tr>\n",
       "    <tr>\n",
       "      <th>1</th>\n",
       "      <td>8844</td>\n",
       "      <td>TriStar Pictures, Teitler Film, Interscope Com...</td>\n",
       "      <td>United States of America</td>\n",
       "    </tr>\n",
       "  </tbody>\n",
       "</table>\n",
       "</div>"
      ],
      "text/plain": [
       "     id                               production_companies  \\\n",
       "0   862                            Pixar Animation Studios   \n",
       "1  8844  TriStar Pictures, Teitler Film, Interscope Com...   \n",
       "\n",
       "       production_countries  \n",
       "0  United States of America  \n",
       "1  United States of America  "
      ]
     },
     "execution_count": 58,
     "metadata": {},
     "output_type": "execute_result"
    }
   ],
   "source": [
    "# Reading smaller version of data file\n",
    "productional_file_small = os.path.join('Resources2','production_small.csv')\n",
    "production_df_new = pd.read_csv(productional_file_small)\n",
    "production_df_new.head(2)\n"
   ]
  },
  {
   "cell_type": "code",
   "execution_count": null,
   "metadata": {},
   "outputs": [],
   "source": []
  },
  {
   "cell_type": "code",
   "execution_count": null,
   "metadata": {},
   "outputs": [],
   "source": [
    "## CREDITS DATAFRAME ##"
   ]
  },
  {
   "cell_type": "code",
   "execution_count": 59,
   "metadata": {},
   "outputs": [
    {
     "data": {
      "text/html": [
       "<div>\n",
       "<style scoped>\n",
       "    .dataframe tbody tr th:only-of-type {\n",
       "        vertical-align: middle;\n",
       "    }\n",
       "\n",
       "    .dataframe tbody tr th {\n",
       "        vertical-align: top;\n",
       "    }\n",
       "\n",
       "    .dataframe thead th {\n",
       "        text-align: right;\n",
       "    }\n",
       "</style>\n",
       "<table border=\"1\" class=\"dataframe\">\n",
       "  <thead>\n",
       "    <tr style=\"text-align: right;\">\n",
       "      <th></th>\n",
       "      <th>id</th>\n",
       "      <th>actors</th>\n",
       "      <th>director</th>\n",
       "      <th>producer</th>\n",
       "    </tr>\n",
       "  </thead>\n",
       "  <tbody>\n",
       "    <tr>\n",
       "      <th>0</th>\n",
       "      <td>862</td>\n",
       "      <td>Tom Hanks, Tim Allen, Don Rickles, Jim Varney,...</td>\n",
       "      <td>John Lasseter</td>\n",
       "      <td>Bonnie Arnold, Ralph Guggenheim</td>\n",
       "    </tr>\n",
       "    <tr>\n",
       "      <th>1</th>\n",
       "      <td>8844</td>\n",
       "      <td>Robin Williams, Jonathan Hyde, Kirsten Dunst, ...</td>\n",
       "      <td>Joe Johnston</td>\n",
       "      <td>Scott Kroopf, William Teitler</td>\n",
       "    </tr>\n",
       "  </tbody>\n",
       "</table>\n",
       "</div>"
      ],
      "text/plain": [
       "     id                                             actors       director  \\\n",
       "0   862  Tom Hanks, Tim Allen, Don Rickles, Jim Varney,...  John Lasseter   \n",
       "1  8844  Robin Williams, Jonathan Hyde, Kirsten Dunst, ...   Joe Johnston   \n",
       "\n",
       "                          producer  \n",
       "0  Bonnie Arnold, Ralph Guggenheim  \n",
       "1    Scott Kroopf, William Teitler  "
      ]
     },
     "execution_count": 59,
     "metadata": {},
     "output_type": "execute_result"
    }
   ],
   "source": [
    "# Reading smaller version of data file\n",
    "credits_file_small = os.path.join('Resources2','credits_small.csv')\n",
    "credits_df_new = pd.read_csv(credits_file_small)\n",
    "credits_df_new.head(2)\n"
   ]
  },
  {
   "cell_type": "code",
   "execution_count": null,
   "metadata": {},
   "outputs": [],
   "source": []
  },
  {
   "cell_type": "code",
   "execution_count": null,
   "metadata": {},
   "outputs": [],
   "source": [
    "## LINKS DATAFRAME ##"
   ]
  },
  {
   "cell_type": "code",
   "execution_count": 60,
   "metadata": {},
   "outputs": [
    {
     "data": {
      "text/html": [
       "<div>\n",
       "<style scoped>\n",
       "    .dataframe tbody tr th:only-of-type {\n",
       "        vertical-align: middle;\n",
       "    }\n",
       "\n",
       "    .dataframe tbody tr th {\n",
       "        vertical-align: top;\n",
       "    }\n",
       "\n",
       "    .dataframe thead th {\n",
       "        text-align: right;\n",
       "    }\n",
       "</style>\n",
       "<table border=\"1\" class=\"dataframe\">\n",
       "  <thead>\n",
       "    <tr style=\"text-align: right;\">\n",
       "      <th></th>\n",
       "      <th>movie_id</th>\n",
       "      <th>imdb_id</th>\n",
       "    </tr>\n",
       "  </thead>\n",
       "  <tbody>\n",
       "    <tr>\n",
       "      <th>0</th>\n",
       "      <td>1</td>\n",
       "      <td>114709</td>\n",
       "    </tr>\n",
       "    <tr>\n",
       "      <th>1</th>\n",
       "      <td>2</td>\n",
       "      <td>113497</td>\n",
       "    </tr>\n",
       "  </tbody>\n",
       "</table>\n",
       "</div>"
      ],
      "text/plain": [
       "   movie_id  imdb_id\n",
       "0         1   114709\n",
       "1         2   113497"
      ]
     },
     "execution_count": 60,
     "metadata": {},
     "output_type": "execute_result"
    }
   ],
   "source": [
    "# Reading smaller version of data file\n",
    "links_file_small = os.path.join('Resources2','links_small.csv')\n",
    "links_df_new = pd.read_csv(links_file_small)\n",
    "links_df_new.head(2)\n"
   ]
  },
  {
   "cell_type": "code",
   "execution_count": null,
   "metadata": {},
   "outputs": [],
   "source": []
  },
  {
   "cell_type": "code",
   "execution_count": null,
   "metadata": {},
   "outputs": [],
   "source": [
    "## RATINGS DATAFRAME ##"
   ]
  },
  {
   "cell_type": "code",
   "execution_count": 61,
   "metadata": {},
   "outputs": [
    {
     "data": {
      "text/html": [
       "<div>\n",
       "<style scoped>\n",
       "    .dataframe tbody tr th:only-of-type {\n",
       "        vertical-align: middle;\n",
       "    }\n",
       "\n",
       "    .dataframe tbody tr th {\n",
       "        vertical-align: top;\n",
       "    }\n",
       "\n",
       "    .dataframe thead th {\n",
       "        text-align: right;\n",
       "    }\n",
       "</style>\n",
       "<table border=\"1\" class=\"dataframe\">\n",
       "  <thead>\n",
       "    <tr style=\"text-align: right;\">\n",
       "      <th></th>\n",
       "      <th>movie_id</th>\n",
       "      <th>rating</th>\n",
       "    </tr>\n",
       "  </thead>\n",
       "  <tbody>\n",
       "    <tr>\n",
       "      <th>0</th>\n",
       "      <td>110</td>\n",
       "      <td>1.0</td>\n",
       "    </tr>\n",
       "    <tr>\n",
       "      <th>1</th>\n",
       "      <td>147</td>\n",
       "      <td>4.5</td>\n",
       "    </tr>\n",
       "  </tbody>\n",
       "</table>\n",
       "</div>"
      ],
      "text/plain": [
       "   movie_id  rating\n",
       "0       110     1.0\n",
       "1       147     4.5"
      ]
     },
     "execution_count": 61,
     "metadata": {},
     "output_type": "execute_result"
    }
   ],
   "source": [
    "# Reading smaller version of data file\n",
    "ratings_file_small = os.path.join('Resources2','ratings_small.csv')\n",
    "ratings_df_new = pd.read_csv(ratings_file_small)\n",
    "ratings_df_new.head(2)\n"
   ]
  },
  {
   "cell_type": "code",
   "execution_count": null,
   "metadata": {},
   "outputs": [],
   "source": []
  },
  {
   "cell_type": "code",
   "execution_count": null,
   "metadata": {},
   "outputs": [],
   "source": []
  },
  {
   "cell_type": "markdown",
   "metadata": {},
   "source": [
    "### Loading of data into dataframe"
   ]
  },
  {
   "cell_type": "code",
   "execution_count": 63,
   "metadata": {},
   "outputs": [],
   "source": [
    "# Connection to database\n",
    "connection_string = \"postgres:<password>@localhost:5432/ETL_Project_Movies_DB\"\n",
    "engine = create_engine(f'postgresql://{connection_string}')"
   ]
  },
  {
   "cell_type": "code",
   "execution_count": 65,
   "metadata": {},
   "outputs": [
    {
     "data": {
      "text/plain": [
       "['movies', 'ratings', 'credits', 'links', 'production']"
      ]
     },
     "execution_count": 65,
     "metadata": {},
     "output_type": "execute_result"
    }
   ],
   "source": [
    "# Check for tables\n",
    "engine.table_names()\n"
   ]
  },
  {
   "cell_type": "code",
   "execution_count": null,
   "metadata": {},
   "outputs": [],
   "source": []
  },
  {
   "cell_type": "code",
   "execution_count": 66,
   "metadata": {},
   "outputs": [],
   "source": [
    "## MOVIES TABLE ##\n",
    "\n",
    "# Use pandas to load csv converted DataFrame into database table\n",
    "movie_small_df_new.to_sql(name='movies', con=engine, if_exists='append', index=False)\n"
   ]
  },
  {
   "cell_type": "code",
   "execution_count": 67,
   "metadata": {},
   "outputs": [
    {
     "data": {
      "text/html": [
       "<div>\n",
       "<style scoped>\n",
       "    .dataframe tbody tr th:only-of-type {\n",
       "        vertical-align: middle;\n",
       "    }\n",
       "\n",
       "    .dataframe tbody tr th {\n",
       "        vertical-align: top;\n",
       "    }\n",
       "\n",
       "    .dataframe thead th {\n",
       "        text-align: right;\n",
       "    }\n",
       "</style>\n",
       "<table border=\"1\" class=\"dataframe\">\n",
       "  <thead>\n",
       "    <tr style=\"text-align: right;\">\n",
       "      <th></th>\n",
       "      <th>id</th>\n",
       "      <th>original_title</th>\n",
       "      <th>release_date</th>\n",
       "      <th>length</th>\n",
       "      <th>status</th>\n",
       "      <th>popularity</th>\n",
       "      <th>original_language</th>\n",
       "      <th>adult</th>\n",
       "      <th>overview</th>\n",
       "      <th>homepage</th>\n",
       "      <th>budget</th>\n",
       "      <th>revenue</th>\n",
       "      <th>genres</th>\n",
       "      <th>imdb_id</th>\n",
       "    </tr>\n",
       "  </thead>\n",
       "  <tbody>\n",
       "    <tr>\n",
       "      <th>0</th>\n",
       "      <td>862</td>\n",
       "      <td>Toy Story</td>\n",
       "      <td>1995-10-30</td>\n",
       "      <td>81.0</td>\n",
       "      <td>Released</td>\n",
       "      <td>21</td>\n",
       "      <td>en</td>\n",
       "      <td>false</td>\n",
       "      <td>Led by Woody, Andy's toys live happily in his ...</td>\n",
       "      <td>http://toystory.disney.com/toy-story</td>\n",
       "      <td>30000000</td>\n",
       "      <td>373554033</td>\n",
       "      <td>Animation, Comedy, Family</td>\n",
       "      <td>114709</td>\n",
       "    </tr>\n",
       "    <tr>\n",
       "      <th>1</th>\n",
       "      <td>8844</td>\n",
       "      <td>Jumanji</td>\n",
       "      <td>1995-12-15</td>\n",
       "      <td>104.0</td>\n",
       "      <td>Released</td>\n",
       "      <td>17</td>\n",
       "      <td>en</td>\n",
       "      <td>false</td>\n",
       "      <td>When siblings Judy and Peter discover an encha...</td>\n",
       "      <td>None</td>\n",
       "      <td>65000000</td>\n",
       "      <td>262797249</td>\n",
       "      <td>Adventure, Fantasy, Family</td>\n",
       "      <td>113497</td>\n",
       "    </tr>\n",
       "  </tbody>\n",
       "</table>\n",
       "</div>"
      ],
      "text/plain": [
       "     id original_title release_date length    status popularity  \\\n",
       "0   862      Toy Story   1995-10-30   81.0  Released         21   \n",
       "1  8844        Jumanji   1995-12-15  104.0  Released         17   \n",
       "\n",
       "  original_language  adult                                           overview  \\\n",
       "0                en  false  Led by Woody, Andy's toys live happily in his ...   \n",
       "1                en  false  When siblings Judy and Peter discover an encha...   \n",
       "\n",
       "                               homepage    budget    revenue  \\\n",
       "0  http://toystory.disney.com/toy-story  30000000  373554033   \n",
       "1                                  None  65000000  262797249   \n",
       "\n",
       "                       genres imdb_id  \n",
       "0   Animation, Comedy, Family  114709  \n",
       "1  Adventure, Fantasy, Family  113497  "
      ]
     },
     "execution_count": 67,
     "metadata": {},
     "output_type": "execute_result"
    }
   ],
   "source": [
    "# Confirm data has been added by querying the table\n",
    "pd.read_sql_query('select * from movies', con=engine).head(2)\n"
   ]
  },
  {
   "cell_type": "code",
   "execution_count": null,
   "metadata": {},
   "outputs": [],
   "source": []
  },
  {
   "cell_type": "code",
   "execution_count": 68,
   "metadata": {},
   "outputs": [],
   "source": [
    "## PRODUCION TABLE ##\n",
    "\n",
    "# Use pandas to load csv converted DataFrame into database\n",
    "production_df_new.to_sql(name='production', con=engine, if_exists='append', index=False)\n"
   ]
  },
  {
   "cell_type": "code",
   "execution_count": 69,
   "metadata": {},
   "outputs": [
    {
     "data": {
      "text/html": [
       "<div>\n",
       "<style scoped>\n",
       "    .dataframe tbody tr th:only-of-type {\n",
       "        vertical-align: middle;\n",
       "    }\n",
       "\n",
       "    .dataframe tbody tr th {\n",
       "        vertical-align: top;\n",
       "    }\n",
       "\n",
       "    .dataframe thead th {\n",
       "        text-align: right;\n",
       "    }\n",
       "</style>\n",
       "<table border=\"1\" class=\"dataframe\">\n",
       "  <thead>\n",
       "    <tr style=\"text-align: right;\">\n",
       "      <th></th>\n",
       "      <th>id</th>\n",
       "      <th>production_companies</th>\n",
       "      <th>production_countries</th>\n",
       "    </tr>\n",
       "  </thead>\n",
       "  <tbody>\n",
       "    <tr>\n",
       "      <th>0</th>\n",
       "      <td>862</td>\n",
       "      <td>Pixar Animation Studios</td>\n",
       "      <td>United States of America</td>\n",
       "    </tr>\n",
       "    <tr>\n",
       "      <th>1</th>\n",
       "      <td>8844</td>\n",
       "      <td>TriStar Pictures, Teitler Film, Interscope Com...</td>\n",
       "      <td>United States of America</td>\n",
       "    </tr>\n",
       "    <tr>\n",
       "      <th>2</th>\n",
       "      <td>15602</td>\n",
       "      <td>Warner Bros., Lancaster Gate</td>\n",
       "      <td>United States of America</td>\n",
       "    </tr>\n",
       "    <tr>\n",
       "      <th>3</th>\n",
       "      <td>31357</td>\n",
       "      <td>Twentieth Century Fox Film Corporation</td>\n",
       "      <td>United States of America</td>\n",
       "    </tr>\n",
       "    <tr>\n",
       "      <th>4</th>\n",
       "      <td>11862</td>\n",
       "      <td>Sandollar Productions, Touchstone Pictures</td>\n",
       "      <td>United States of America</td>\n",
       "    </tr>\n",
       "  </tbody>\n",
       "</table>\n",
       "</div>"
      ],
      "text/plain": [
       "      id                               production_companies  \\\n",
       "0    862                            Pixar Animation Studios   \n",
       "1   8844  TriStar Pictures, Teitler Film, Interscope Com...   \n",
       "2  15602                       Warner Bros., Lancaster Gate   \n",
       "3  31357             Twentieth Century Fox Film Corporation   \n",
       "4  11862         Sandollar Productions, Touchstone Pictures   \n",
       "\n",
       "       production_countries  \n",
       "0  United States of America  \n",
       "1  United States of America  \n",
       "2  United States of America  \n",
       "3  United States of America  \n",
       "4  United States of America  "
      ]
     },
     "execution_count": 69,
     "metadata": {},
     "output_type": "execute_result"
    }
   ],
   "source": [
    "# Confirm data has been added by querying the table\n",
    "pd.read_sql_query('select * from production', con=engine).head()\n"
   ]
  },
  {
   "cell_type": "code",
   "execution_count": null,
   "metadata": {},
   "outputs": [],
   "source": []
  },
  {
   "cell_type": "code",
   "execution_count": 70,
   "metadata": {},
   "outputs": [],
   "source": [
    "## CREDITS TABLE ##\n",
    "\n",
    "# Use pandas to load csv converted DataFrame into database\n",
    "credits_df_new.to_sql(name='credits', con=engine, if_exists='append', index=False)\n"
   ]
  },
  {
   "cell_type": "code",
   "execution_count": 71,
   "metadata": {},
   "outputs": [
    {
     "data": {
      "text/html": [
       "<div>\n",
       "<style scoped>\n",
       "    .dataframe tbody tr th:only-of-type {\n",
       "        vertical-align: middle;\n",
       "    }\n",
       "\n",
       "    .dataframe tbody tr th {\n",
       "        vertical-align: top;\n",
       "    }\n",
       "\n",
       "    .dataframe thead th {\n",
       "        text-align: right;\n",
       "    }\n",
       "</style>\n",
       "<table border=\"1\" class=\"dataframe\">\n",
       "  <thead>\n",
       "    <tr style=\"text-align: right;\">\n",
       "      <th></th>\n",
       "      <th>id</th>\n",
       "      <th>actors</th>\n",
       "      <th>director</th>\n",
       "      <th>producer</th>\n",
       "    </tr>\n",
       "  </thead>\n",
       "  <tbody>\n",
       "    <tr>\n",
       "      <th>0</th>\n",
       "      <td>862</td>\n",
       "      <td>Tom Hanks, Tim Allen, Don Rickles, Jim Varney,...</td>\n",
       "      <td>John Lasseter</td>\n",
       "      <td>Bonnie Arnold, Ralph Guggenheim</td>\n",
       "    </tr>\n",
       "    <tr>\n",
       "      <th>1</th>\n",
       "      <td>8844</td>\n",
       "      <td>Robin Williams, Jonathan Hyde, Kirsten Dunst, ...</td>\n",
       "      <td>Joe Johnston</td>\n",
       "      <td>Scott Kroopf, William Teitler</td>\n",
       "    </tr>\n",
       "    <tr>\n",
       "      <th>2</th>\n",
       "      <td>15602</td>\n",
       "      <td>Walter Matthau, Jack Lemmon, Ann-Margret, Soph...</td>\n",
       "      <td>Howard Deutch</td>\n",
       "      <td>None</td>\n",
       "    </tr>\n",
       "    <tr>\n",
       "      <th>3</th>\n",
       "      <td>31357</td>\n",
       "      <td>Whitney Houston, Angela Bassett, Loretta Devin...</td>\n",
       "      <td>Forest Whitaker</td>\n",
       "      <td>Ronald Bass, Ezra Swerdlow, Deborah Schindler,...</td>\n",
       "    </tr>\n",
       "    <tr>\n",
       "      <th>4</th>\n",
       "      <td>11862</td>\n",
       "      <td>Steve Martin, Diane Keaton, Martin Short, Kimb...</td>\n",
       "      <td>Charles Shyer</td>\n",
       "      <td>Nancy Meyers</td>\n",
       "    </tr>\n",
       "  </tbody>\n",
       "</table>\n",
       "</div>"
      ],
      "text/plain": [
       "      id                                             actors         director  \\\n",
       "0    862  Tom Hanks, Tim Allen, Don Rickles, Jim Varney,...    John Lasseter   \n",
       "1   8844  Robin Williams, Jonathan Hyde, Kirsten Dunst, ...     Joe Johnston   \n",
       "2  15602  Walter Matthau, Jack Lemmon, Ann-Margret, Soph...    Howard Deutch   \n",
       "3  31357  Whitney Houston, Angela Bassett, Loretta Devin...  Forest Whitaker   \n",
       "4  11862  Steve Martin, Diane Keaton, Martin Short, Kimb...    Charles Shyer   \n",
       "\n",
       "                                            producer  \n",
       "0                    Bonnie Arnold, Ralph Guggenheim  \n",
       "1                      Scott Kroopf, William Teitler  \n",
       "2                                               None  \n",
       "3  Ronald Bass, Ezra Swerdlow, Deborah Schindler,...  \n",
       "4                                       Nancy Meyers  "
      ]
     },
     "execution_count": 71,
     "metadata": {},
     "output_type": "execute_result"
    }
   ],
   "source": [
    "# Confirm data has been added by querying the table\n",
    "pd.read_sql_query('select * from credits', con=engine).head()\n"
   ]
  },
  {
   "cell_type": "code",
   "execution_count": null,
   "metadata": {},
   "outputs": [],
   "source": [
    "\n"
   ]
  },
  {
   "cell_type": "code",
   "execution_count": 72,
   "metadata": {},
   "outputs": [],
   "source": [
    "## LINKS TABLE ##\n",
    "\n",
    "# Use pandas to load csv converted DataFrame into database\n",
    "links_df_new.to_sql(name='links', con=engine, if_exists='append', index=False)\n"
   ]
  },
  {
   "cell_type": "code",
   "execution_count": 73,
   "metadata": {},
   "outputs": [
    {
     "data": {
      "text/html": [
       "<div>\n",
       "<style scoped>\n",
       "    .dataframe tbody tr th:only-of-type {\n",
       "        vertical-align: middle;\n",
       "    }\n",
       "\n",
       "    .dataframe tbody tr th {\n",
       "        vertical-align: top;\n",
       "    }\n",
       "\n",
       "    .dataframe thead th {\n",
       "        text-align: right;\n",
       "    }\n",
       "</style>\n",
       "<table border=\"1\" class=\"dataframe\">\n",
       "  <thead>\n",
       "    <tr style=\"text-align: right;\">\n",
       "      <th></th>\n",
       "      <th>movie_id</th>\n",
       "      <th>imdb_id</th>\n",
       "    </tr>\n",
       "  </thead>\n",
       "  <tbody>\n",
       "    <tr>\n",
       "      <th>0</th>\n",
       "      <td>1</td>\n",
       "      <td>114709</td>\n",
       "    </tr>\n",
       "    <tr>\n",
       "      <th>1</th>\n",
       "      <td>2</td>\n",
       "      <td>113497</td>\n",
       "    </tr>\n",
       "    <tr>\n",
       "      <th>2</th>\n",
       "      <td>3</td>\n",
       "      <td>113228</td>\n",
       "    </tr>\n",
       "    <tr>\n",
       "      <th>3</th>\n",
       "      <td>4</td>\n",
       "      <td>114885</td>\n",
       "    </tr>\n",
       "    <tr>\n",
       "      <th>4</th>\n",
       "      <td>5</td>\n",
       "      <td>113041</td>\n",
       "    </tr>\n",
       "  </tbody>\n",
       "</table>\n",
       "</div>"
      ],
      "text/plain": [
       "  movie_id imdb_id\n",
       "0        1  114709\n",
       "1        2  113497\n",
       "2        3  113228\n",
       "3        4  114885\n",
       "4        5  113041"
      ]
     },
     "execution_count": 73,
     "metadata": {},
     "output_type": "execute_result"
    }
   ],
   "source": [
    "# Confirm data has been added by querying the table\n",
    "pd.read_sql_query('select * from links', con=engine).head()\n"
   ]
  },
  {
   "cell_type": "code",
   "execution_count": null,
   "metadata": {},
   "outputs": [],
   "source": []
  },
  {
   "cell_type": "code",
   "execution_count": 74,
   "metadata": {},
   "outputs": [],
   "source": [
    "## RATINGS TABLE ##\n",
    "\n",
    "# Use pandas to load csv converted DataFrame into database\n",
    "ratings_df_new.to_sql(name='ratings', con=engine, if_exists='append', index=False)\n"
   ]
  },
  {
   "cell_type": "code",
   "execution_count": 75,
   "metadata": {},
   "outputs": [
    {
     "data": {
      "text/html": [
       "<div>\n",
       "<style scoped>\n",
       "    .dataframe tbody tr th:only-of-type {\n",
       "        vertical-align: middle;\n",
       "    }\n",
       "\n",
       "    .dataframe tbody tr th {\n",
       "        vertical-align: top;\n",
       "    }\n",
       "\n",
       "    .dataframe thead th {\n",
       "        text-align: right;\n",
       "    }\n",
       "</style>\n",
       "<table border=\"1\" class=\"dataframe\">\n",
       "  <thead>\n",
       "    <tr style=\"text-align: right;\">\n",
       "      <th></th>\n",
       "      <th>movie_id</th>\n",
       "      <th>rating</th>\n",
       "    </tr>\n",
       "  </thead>\n",
       "  <tbody>\n",
       "    <tr>\n",
       "      <th>0</th>\n",
       "      <td>110</td>\n",
       "      <td>1</td>\n",
       "    </tr>\n",
       "    <tr>\n",
       "      <th>1</th>\n",
       "      <td>147</td>\n",
       "      <td>5</td>\n",
       "    </tr>\n",
       "    <tr>\n",
       "      <th>2</th>\n",
       "      <td>858</td>\n",
       "      <td>5</td>\n",
       "    </tr>\n",
       "    <tr>\n",
       "      <th>3</th>\n",
       "      <td>1221</td>\n",
       "      <td>5</td>\n",
       "    </tr>\n",
       "    <tr>\n",
       "      <th>4</th>\n",
       "      <td>1246</td>\n",
       "      <td>5</td>\n",
       "    </tr>\n",
       "  </tbody>\n",
       "</table>\n",
       "</div>"
      ],
      "text/plain": [
       "  movie_id  rating\n",
       "0      110       1\n",
       "1      147       5\n",
       "2      858       5\n",
       "3     1221       5\n",
       "4     1246       5"
      ]
     },
     "execution_count": 75,
     "metadata": {},
     "output_type": "execute_result"
    }
   ],
   "source": [
    "# Confirm data has been added by querying the table\n",
    "pd.read_sql_query('select * from ratings', con=engine).head()\n"
   ]
  },
  {
   "cell_type": "code",
   "execution_count": null,
   "metadata": {},
   "outputs": [],
   "source": []
  },
  {
   "cell_type": "code",
   "execution_count": null,
   "metadata": {},
   "outputs": [],
   "source": []
  }
 ],
 "metadata": {
  "kernelspec": {
   "display_name": "Python 3",
   "language": "python",
   "name": "python3"
  },
  "language_info": {
   "codemirror_mode": {
    "name": "ipython",
    "version": 3
   },
   "file_extension": ".py",
   "mimetype": "text/x-python",
   "name": "python",
   "nbconvert_exporter": "python",
   "pygments_lexer": "ipython3",
   "version": "3.7.1"
  }
 },
 "nbformat": 4,
 "nbformat_minor": 2
}
